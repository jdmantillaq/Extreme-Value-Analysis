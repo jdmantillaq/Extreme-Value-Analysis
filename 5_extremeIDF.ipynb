{
 "cells": [
  {
   "cell_type": "markdown",
   "metadata": {},
   "source": [
    "# A Beginner’s Guide to Carry out Extreme Value Analysis (5) - IDF"
   ]
  },
  {
   "cell_type": "markdown",
   "metadata": {},
   "source": [
    "As we know, Intensity Duration Frequency (IDF) curves are a standard tool routinely used in the planning and designing of municipal drainage, stormwater, flood management, and wastewater infrastructure. They are derived from historical rainfall records under the assumption of stationarity. \n",
    "\n",
    "Rainfall IDF curve information describes the frequency of extreme rainfall events for a variety of durations and intensities. Keep in mind that Depth Duration Frequency (DDF) curve is another kind of presentation format of IDF curve. They can be transformed from one to the other as $$Intensity = Depth/Duration $$\n",
    "\n",
    "The following presents a primary procedure to create IDF curves in a more generalized format."
   ]
  },
  {
   "cell_type": "markdown",
   "metadata": {},
   "source": [
    "## 1. Load rainfall IDF data\n",
    "\n",
    "### Import basic libs"
   ]
  },
  {
   "cell_type": "code",
   "execution_count": 1,
   "metadata": {
    "collapsed": false
   },
   "outputs": [],
   "source": [
    "import math\n",
    "from pandas import *\n",
    "import pandas as pd\n",
    "from collections import OrderedDict\n",
    "\n",
    "%matplotlib inline \n",
    "import matplotlib.pyplot as plt\n",
    "from matplotlib.pylab import rcParams\n",
    "rcParams['figure.figsize'] = 15, 12"
   ]
  },
  {
   "cell_type": "markdown",
   "metadata": {},
   "source": [
    "### Load IDF data\n",
    "\n",
    "IDF values can be obtained by analyzing annual maxima series for each duration, just as DDF values. However, it is generally difficult to get rainfall data with high temporal resolution such as at 5 and 30 minutes. \n",
    "\n",
    "For an illustration of creating IDF curves, the following IDF data is abstracted directly from a paper, where \n",
    "* The duration is in hour (0.25hr = 15 minutes). \n",
    "* The return years consist of 2,5,10,20,50 and 100. \n",
    "* The rainfall intensity is in mm/hr."
   ]
  },
  {
   "cell_type": "code",
   "execution_count": 2,
   "metadata": {
    "collapsed": false
   },
   "outputs": [
    {
     "data": {
      "text/html": [
       "<div>\n",
       "<style>\n",
       "    .dataframe thead tr:only-child th {\n",
       "        text-align: right;\n",
       "    }\n",
       "\n",
       "    .dataframe thead th {\n",
       "        text-align: left;\n",
       "    }\n",
       "\n",
       "    .dataframe tbody tr th {\n",
       "        vertical-align: top;\n",
       "    }\n",
       "</style>\n",
       "<table border=\"1\" class=\"dataframe\">\n",
       "  <thead>\n",
       "    <tr style=\"text-align: right;\">\n",
       "      <th></th>\n",
       "      <th>2-yr</th>\n",
       "      <th>5-yr</th>\n",
       "      <th>10-yr</th>\n",
       "      <th>20-yr</th>\n",
       "      <th>50-yr</th>\n",
       "      <th>100-yr</th>\n",
       "    </tr>\n",
       "    <tr>\n",
       "      <th>Duration</th>\n",
       "      <th></th>\n",
       "      <th></th>\n",
       "      <th></th>\n",
       "      <th></th>\n",
       "      <th></th>\n",
       "      <th></th>\n",
       "    </tr>\n",
       "  </thead>\n",
       "  <tbody>\n",
       "    <tr>\n",
       "      <th>0.25</th>\n",
       "      <td>155.1</td>\n",
       "      <td>177.7</td>\n",
       "      <td>196.9</td>\n",
       "      <td>218.2</td>\n",
       "      <td>249.9</td>\n",
       "      <td>276.9</td>\n",
       "    </tr>\n",
       "    <tr>\n",
       "      <th>0.50</th>\n",
       "      <td>103.8</td>\n",
       "      <td>118.9</td>\n",
       "      <td>131.8</td>\n",
       "      <td>146.0</td>\n",
       "      <td>167.2</td>\n",
       "      <td>185.3</td>\n",
       "    </tr>\n",
       "    <tr>\n",
       "      <th>1.00</th>\n",
       "      <td>64.6</td>\n",
       "      <td>74.0</td>\n",
       "      <td>82.0</td>\n",
       "      <td>90.8</td>\n",
       "      <td>104.1</td>\n",
       "      <td>115.3</td>\n",
       "    </tr>\n",
       "    <tr>\n",
       "      <th>3.00</th>\n",
       "      <td>27.9</td>\n",
       "      <td>31.9</td>\n",
       "      <td>35.4</td>\n",
       "      <td>39.2</td>\n",
       "      <td>44.9</td>\n",
       "      <td>49.7</td>\n",
       "    </tr>\n",
       "    <tr>\n",
       "      <th>6.00</th>\n",
       "      <td>15.9</td>\n",
       "      <td>18.2</td>\n",
       "      <td>20.2</td>\n",
       "      <td>22.4</td>\n",
       "      <td>25.7</td>\n",
       "      <td>28.4</td>\n",
       "    </tr>\n",
       "    <tr>\n",
       "      <th>12.00</th>\n",
       "      <td>9.0</td>\n",
       "      <td>10.3</td>\n",
       "      <td>11.4</td>\n",
       "      <td>12.7</td>\n",
       "      <td>14.5</td>\n",
       "      <td>16.1</td>\n",
       "    </tr>\n",
       "    <tr>\n",
       "      <th>24.00</th>\n",
       "      <td>5.1</td>\n",
       "      <td>5.8</td>\n",
       "      <td>6.4</td>\n",
       "      <td>7.1</td>\n",
       "      <td>8.2</td>\n",
       "      <td>9.0</td>\n",
       "    </tr>\n",
       "    <tr>\n",
       "      <th>48.00</th>\n",
       "      <td>2.8</td>\n",
       "      <td>3.3</td>\n",
       "      <td>3.6</td>\n",
       "      <td>4.0</td>\n",
       "      <td>4.6</td>\n",
       "      <td>5.1</td>\n",
       "    </tr>\n",
       "    <tr>\n",
       "      <th>72.00</th>\n",
       "      <td>2.0</td>\n",
       "      <td>2.3</td>\n",
       "      <td>2.6</td>\n",
       "      <td>2.9</td>\n",
       "      <td>3.3</td>\n",
       "      <td>3.6</td>\n",
       "    </tr>\n",
       "  </tbody>\n",
       "</table>\n",
       "</div>"
      ],
      "text/plain": [
       "           2-yr   5-yr  10-yr  20-yr  50-yr  100-yr\n",
       "Duration                                           \n",
       "0.25      155.1  177.7  196.9  218.2  249.9   276.9\n",
       "0.50      103.8  118.9  131.8  146.0  167.2   185.3\n",
       "1.00       64.6   74.0   82.0   90.8  104.1   115.3\n",
       "3.00       27.9   31.9   35.4   39.2   44.9    49.7\n",
       "6.00       15.9   18.2   20.2   22.4   25.7    28.4\n",
       "12.00       9.0   10.3   11.4   12.7   14.5    16.1\n",
       "24.00       5.1    5.8    6.4    7.1    8.2     9.0\n",
       "48.00       2.8    3.3    3.6    4.0    4.6     5.1\n",
       "72.00       2.0    2.3    2.6    2.9    3.3     3.6"
      ]
     },
     "execution_count": 2,
     "metadata": {},
     "output_type": "execute_result"
    }
   ],
   "source": [
    "data  = pd.read_csv('data/IDFstn3117070.txt')\n",
    "data  = data.set_index('Duration')\n",
    "data"
   ]
  },
  {
   "cell_type": "markdown",
   "metadata": {},
   "source": [
    "## 2. Fit IDF data into empirical curve for each return year"
   ]
  },
  {
   "cell_type": "markdown",
   "metadata": {},
   "source": [
    "The IDF data derived with above method is typically fitted to a continuous function in order to make the process of\n",
    "IDF data interpolation more efficient. For example, 10 yr depth for duration of 45 min is not readily available in the published IDF data. In order to obtain this information, a generalized IDF relationship can be written in the form of\n",
    "\n",
    "$$I = a*T^k/(D + b)^c$$\n",
    "\n",
    "where $I$ is the rainfall intensity (mm/hr), $D$ is the rainfall duration (hr), $T$ is a specific return year, while and $a, b, c$ and $k$ are coefficients. "
   ]
  },
  {
   "cell_type": "markdown",
   "metadata": {},
   "source": [
    "### Fit IDF curves based the above formula\n",
    "\n",
    "The Non-Linear Least-Squares Minimization and Curve-Fitting for Python (`lmfit`) is used to fit the above curve for each return year in 2, 5 10, 20, 50 and 100.\n",
    "\n",
    "`lmfit` can be installed by running:\n",
    "\n",
    "`pip install lmfit`"
   ]
  },
  {
   "cell_type": "code",
   "execution_count": 3,
   "metadata": {
    "collapsed": true
   },
   "outputs": [],
   "source": [
    "from lmfit import Model\n",
    "from lmfit import Parameter\n",
    "import re"
   ]
  },
  {
   "cell_type": "markdown",
   "metadata": {},
   "source": [
    "#### Define the IDF function"
   ]
  },
  {
   "cell_type": "code",
   "execution_count": 4,
   "metadata": {
    "collapsed": true
   },
   "outputs": [],
   "source": [
    "def regidf(D, a, b, c,T, k):\n",
    "    return a*T**k/(D+b)**c"
   ]
  },
  {
   "cell_type": "markdown",
   "metadata": {},
   "source": [
    "#### Create a regression model based on the above IDF function\n",
    "In the model, the dependent variable is intensity, while independent variables are duration and return years."
   ]
  },
  {
   "cell_type": "code",
   "execution_count": 5,
   "metadata": {
    "collapsed": true
   },
   "outputs": [],
   "source": [
    "model = Model(regidf, independent_vars=['D','T'])"
   ]
  },
  {
   "cell_type": "markdown",
   "metadata": {},
   "source": [
    "#### Fit IDF curves on all of return years\n",
    "* regular expresson (re) is used to abstract return years from column names.\n",
    "* initial guess of a,b,c,k is very important. Different initial guess may produce different regression parameters. May need a good method to estimate initial guess."
   ]
  },
  {
   "cell_type": "code",
   "execution_count": 6,
   "metadata": {
    "collapsed": false
   },
   "outputs": [
    {
     "data": {
      "text/html": [
       "<div>\n",
       "<style>\n",
       "    .dataframe thead tr:only-child th {\n",
       "        text-align: right;\n",
       "    }\n",
       "\n",
       "    .dataframe thead th {\n",
       "        text-align: left;\n",
       "    }\n",
       "\n",
       "    .dataframe tbody tr th {\n",
       "        vertical-align: top;\n",
       "    }\n",
       "</style>\n",
       "<table border=\"1\" class=\"dataframe\">\n",
       "  <thead>\n",
       "    <tr style=\"text-align: right;\">\n",
       "      <th></th>\n",
       "      <th>a</th>\n",
       "      <th>b</th>\n",
       "      <th>c</th>\n",
       "      <th>k</th>\n",
       "    </tr>\n",
       "  </thead>\n",
       "  <tbody>\n",
       "    <tr>\n",
       "      <th>2-yr</th>\n",
       "      <td>43.491955</td>\n",
       "      <td>0.156419</td>\n",
       "      <td>0.837507</td>\n",
       "      <td>0.746463</td>\n",
       "    </tr>\n",
       "    <tr>\n",
       "      <th>5-yr</th>\n",
       "      <td>23.713464</td>\n",
       "      <td>0.156404</td>\n",
       "      <td>0.837906</td>\n",
       "      <td>0.782624</td>\n",
       "    </tr>\n",
       "    <tr>\n",
       "      <th>10-yr</th>\n",
       "      <td>29.725577</td>\n",
       "      <td>0.156819</td>\n",
       "      <td>0.838008</td>\n",
       "      <td>0.493790</td>\n",
       "    </tr>\n",
       "    <tr>\n",
       "      <th>20-yr</th>\n",
       "      <td>99.823552</td>\n",
       "      <td>0.155330</td>\n",
       "      <td>0.836736</td>\n",
       "      <td>0.008818</td>\n",
       "    </tr>\n",
       "    <tr>\n",
       "      <th>50-yr</th>\n",
       "      <td>4.575590</td>\n",
       "      <td>0.155459</td>\n",
       "      <td>0.836429</td>\n",
       "      <td>0.829554</td>\n",
       "    </tr>\n",
       "    <tr>\n",
       "      <th>100-yr</th>\n",
       "      <td>128.938307</td>\n",
       "      <td>0.156368</td>\n",
       "      <td>0.837793</td>\n",
       "      <td>0.002149</td>\n",
       "    </tr>\n",
       "  </tbody>\n",
       "</table>\n",
       "</div>"
      ],
      "text/plain": [
       "                 a         b         c         k\n",
       "2-yr     43.491955  0.156419  0.837507  0.746463\n",
       "5-yr     23.713464  0.156404  0.837906  0.782624\n",
       "10-yr    29.725577  0.156819  0.838008  0.493790\n",
       "20-yr    99.823552  0.155330  0.836736  0.008818\n",
       "50-yr     4.575590  0.155459  0.836429  0.829554\n",
       "100-yr  128.938307  0.156368  0.837793  0.002149"
      ]
     },
     "execution_count": 6,
     "metadata": {},
     "output_type": "execute_result"
    }
   ],
   "source": [
    "D = data.index*1.0\n",
    "idfparams = OrderedDict()\n",
    "\n",
    "for name in data.columns.values.tolist():    \n",
    "    T = map(float, re.findall('\\d+', name))   \n",
    "    datax  =  data[name].values;\n",
    "    result = model.fit(datax, \n",
    "                       D = D, \n",
    "                       T = Parameter(value=T[0], vary=False), \n",
    "                       a = datax.mean(),                                    \n",
    "                       b = Parameter(value=1, min=0),\n",
    "                       c = Parameter(value=1, min=0),\n",
    "                       k = Parameter(value=1, min=0))\n",
    "    idfparams[name] = [result.params['a'].value,result.params['b'].value,result.params['c'].value,result.params['k'].value]\n",
    "\n",
    "fnl = pd.DataFrame.from_dict(idfparams, orient='index')\n",
    "fnl.columns=[\"a\",\"b\",\"c\",\"k\"]\n",
    "fnl   "
   ]
  },
  {
   "cell_type": "markdown",
   "metadata": {},
   "source": [
    "## 3.Draw IDF curves "
   ]
  },
  {
   "cell_type": "markdown",
   "metadata": {},
   "source": [
    "### Setup sample durations for interpolation and plotting \n",
    "\n",
    "Set 1000 durations from 0.25 to 72 hours to make IDF curves smoothly."
   ]
  },
  {
   "cell_type": "code",
   "execution_count": 7,
   "metadata": {
    "collapsed": false
   },
   "outputs": [
    {
     "data": {
      "text/plain": [
       "array([ 71.71271271,  71.78453453,  71.85635636,  71.92817818,  72.        ])"
      ]
     },
     "execution_count": 7,
     "metadata": {},
     "output_type": "execute_result"
    }
   ],
   "source": [
    "samdurations = np.linspace(0.25,72.0,1000)\n",
    "samdurations[-5:]"
   ]
  },
  {
   "cell_type": "markdown",
   "metadata": {},
   "source": [
    "### Use the IDF regression parameters to calculate IDF values of sample durations"
   ]
  },
  {
   "cell_type": "code",
   "execution_count": 8,
   "metadata": {
    "collapsed": false
   },
   "outputs": [
    {
     "data": {
      "text/html": [
       "<div>\n",
       "<style>\n",
       "    .dataframe thead tr:only-child th {\n",
       "        text-align: right;\n",
       "    }\n",
       "\n",
       "    .dataframe thead th {\n",
       "        text-align: left;\n",
       "    }\n",
       "\n",
       "    .dataframe tbody tr th {\n",
       "        vertical-align: top;\n",
       "    }\n",
       "</style>\n",
       "<table border=\"1\" class=\"dataframe\">\n",
       "  <thead>\n",
       "    <tr style=\"text-align: right;\">\n",
       "      <th></th>\n",
       "      <th>2-yr</th>\n",
       "      <th>5-yr</th>\n",
       "      <th>10-yr</th>\n",
       "      <th>20-yr</th>\n",
       "      <th>50-yr</th>\n",
       "      <th>100-yr</th>\n",
       "    </tr>\n",
       "  </thead>\n",
       "  <tbody>\n",
       "    <tr>\n",
       "      <th>71.712713</th>\n",
       "      <td>2.033524</td>\n",
       "      <td>2.324969</td>\n",
       "      <td>2.577044</td>\n",
       "      <td>2.865990</td>\n",
       "      <td>3.288314</td>\n",
       "      <td>3.624788</td>\n",
       "    </tr>\n",
       "    <tr>\n",
       "      <th>71.784535</th>\n",
       "      <td>2.031824</td>\n",
       "      <td>2.323024</td>\n",
       "      <td>2.574888</td>\n",
       "      <td>2.863596</td>\n",
       "      <td>3.285568</td>\n",
       "      <td>3.621756</td>\n",
       "    </tr>\n",
       "    <tr>\n",
       "      <th>71.856356</th>\n",
       "      <td>2.030126</td>\n",
       "      <td>2.321082</td>\n",
       "      <td>2.572736</td>\n",
       "      <td>2.861206</td>\n",
       "      <td>3.282827</td>\n",
       "      <td>3.618730</td>\n",
       "    </tr>\n",
       "    <tr>\n",
       "      <th>71.928178</th>\n",
       "      <td>2.028432</td>\n",
       "      <td>2.319144</td>\n",
       "      <td>2.570587</td>\n",
       "      <td>2.858820</td>\n",
       "      <td>3.280091</td>\n",
       "      <td>3.615709</td>\n",
       "    </tr>\n",
       "    <tr>\n",
       "      <th>72.000000</th>\n",
       "      <td>2.026741</td>\n",
       "      <td>2.317210</td>\n",
       "      <td>2.568443</td>\n",
       "      <td>2.856439</td>\n",
       "      <td>3.277359</td>\n",
       "      <td>3.612694</td>\n",
       "    </tr>\n",
       "  </tbody>\n",
       "</table>\n",
       "</div>"
      ],
      "text/plain": [
       "               2-yr      5-yr     10-yr     20-yr     50-yr    100-yr\n",
       "71.712713  2.033524  2.324969  2.577044  2.865990  3.288314  3.624788\n",
       "71.784535  2.031824  2.323024  2.574888  2.863596  3.285568  3.621756\n",
       "71.856356  2.030126  2.321082  2.572736  2.861206  3.282827  3.618730\n",
       "71.928178  2.028432  2.319144  2.570587  2.858820  3.280091  3.615709\n",
       "72.000000  2.026741  2.317210  2.568443  2.856439  3.277359  3.612694"
      ]
     },
     "execution_count": 8,
     "metadata": {},
     "output_type": "execute_result"
    }
   ],
   "source": [
    "fnlt = fnl.T\n",
    "\n",
    "ddfvalues = OrderedDict()\n",
    "for name in data.columns.values.tolist():     \n",
    "    T = map(float, re.findall('\\d+', name))\n",
    "    ddfvalues[name] = regidf(samdurations,T=T, a= fnlt[name][\"a\"],b=fnlt[name][\"b\"],c=fnlt[name][\"c\"],k=fnlt[name][\"k\"],)\n",
    "    \n",
    "inh = pd.DataFrame.from_dict(ddfvalues, orient='index').T.set_index(samdurations) \n",
    "inh.tail()\n"
   ]
  },
  {
   "cell_type": "markdown",
   "metadata": {},
   "source": [
    "#### Save the IDF values to idf.pickle for future use"
   ]
  },
  {
   "cell_type": "code",
   "execution_count": 1,
   "metadata": {
    "collapsed": false
   },
   "outputs": [
    {
     "ename": "NameError",
     "evalue": "name 'inh' is not defined",
     "output_type": "error",
     "traceback": [
      "\u001b[0;31m---------------------------------------------------------------------------\u001b[0m",
      "\u001b[0;31mNameError\u001b[0m                                 Traceback (most recent call last)",
      "\u001b[0;32m<ipython-input-1-0fffcdfac012>\u001b[0m in \u001b[0;36m<module>\u001b[0;34m()\u001b[0m\n\u001b[0;32m----> 1\u001b[0;31m \u001b[0minh\u001b[0m\u001b[1;33m.\u001b[0m\u001b[0mto_pickle\u001b[0m\u001b[1;33m(\u001b[0m\u001b[1;34m'idf.pickle'\u001b[0m\u001b[1;33m)\u001b[0m\u001b[1;33m\u001b[0m\u001b[0m\n\u001b[0m",
      "\u001b[0;31mNameError\u001b[0m: name 'inh' is not defined"
     ]
    }
   ],
   "source": [
    "inh.to_pickle('data/idf.pickle')"
   ]
  },
  {
   "cell_type": "markdown",
   "metadata": {},
   "source": [
    "### Have a visualization check"
   ]
  },
  {
   "cell_type": "code",
   "execution_count": 9,
   "metadata": {
    "collapsed": false
   },
   "outputs": [
    {
     "data": {
      "text/plain": [
       "<matplotlib.text.Text at 0xc7e30b8>"
      ]
     },
     "execution_count": 9,
     "metadata": {},
     "output_type": "execute_result"
    },
    {
     "data": {
      "image/png": "[encoded data removed]",
      "text/plain": [
       "<matplotlib.figure.Figure at 0xaebc2b0>"
      ]
     },
     "metadata": {},
     "output_type": "display_data"
    }
   ],
   "source": [
    "ag = inh.plot(color=['orange', 'green', 'purple', 'magenta', 'blue','red'])\n",
    "\n",
    "ag.set_yscale('log')\n",
    "ag.set_xscale('log')\n",
    "\n",
    "ag = plt.plot(data['2-yr'],  \"o\", color=\"orange\")\n",
    "ag = plt.plot(data['5-yr'],  \"o\", color=\"green\")\n",
    "ag = plt.plot(data['10-yr'], \"o\", color=\"purple\")\n",
    "ag = plt.plot(data['20-yr'], \"o\", color=\"magenta\")\n",
    "ag = plt.plot(data['50-yr'], \"o\", color=\"blue\")\n",
    "ag = plt.plot(data['100-yr'],\"o\", color=\"red\")\n",
    "\n",
    "plt.xlim([0.1,100])\n",
    "plt.ylim([1, 1000])\n",
    "plt.grid(True,which=\"both\", ls=\"-\")\n",
    "\n",
    "plt.xlabel(\"Duration (Hour)\", fontsize=20, fontweight = 'bold')\n",
    "plt.ylabel(\"Rainfall Intensity (mm/hr)\", fontsize=20,fontweight = 'bold')"
   ]
  },
  {
   "cell_type": "markdown",
   "metadata": {
    "collapsed": true
   },
   "source": [
    "## End Notes\n",
    "\n",
    "Through this guide I have tried to give you a basic idea how to carry out extreme value analysis (EVA) upon a time series data of interest.\n",
    "\n",
    "In fact, the analysis will become more complicated in a real practice as high quality data are not always available. Sometimes, you have to spend a lot of time cleaning the data. For example, fill the missing values and check outliers.\n",
    "\n",
    "In addition, carrying out EVA always fits several distributions, simultaneously. Then a goodness-of-fit measure (e.g., Anderson-Darling test) is used to select the optimal one. This also is the case for creating DDF or IDF curves.\n",
    "\n",
    "Although a generalized IDF curve is fit in this part, there are several curves available for practical applications. These curves can also be fit using the library of Non-Linear Least-Squares Minimization and Curve-Fitting for Python (LMFIT). However, it is worth noting it is very import to estimate the inital values for each parameter of IDF curves. Different initial guess may produce different IDF parameters.\n",
    "\n",
    "This is just a start. You can try more."
   ]
  },
  {
   "cell_type": "code",
   "execution_count": null,
   "metadata": {
    "collapsed": true
   },
   "outputs": [],
   "source": []
  }
 ],
 "metadata": {
  "anaconda-cloud": {},
  "kernelspec": {
   "display_name": "Python [conda root]",
   "language": "python",
   "name": "conda-root-py"
  },
  "language_info": {
   "codemirror_mode": {
    "name": "ipython",
    "version": 2
   },
   "file_extension": ".py",
   "mimetype": "text/x-python",
   "name": "python",
   "nbconvert_exporter": "python",
   "pygments_lexer": "ipython2",
   "version": "2.7.12"
  }
 },
 "nbformat": 4,
 "nbformat_minor": 1
}
