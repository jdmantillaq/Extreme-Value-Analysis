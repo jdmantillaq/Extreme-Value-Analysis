{
 "cells": [
  {
   "cell_type": "markdown",
   "metadata": {},
   "source": [
    "# A Beginner’s Guide to Carry out Extreme Value Analysis (3)"
   ]
  },
  {
   "cell_type": "markdown",
   "metadata": {},
   "source": [
    "This is the third part of \"A Beginner’s Guide to Carry out Extreme Value Analysis\". Upon the part 2 of this guide, we know  the GEV is the best one.\n",
    "\n",
    "In this part, a bootstrapping procedure is introduced to drive the confidence intervals of the selected best extreme distribution."
   ]
  },
  {
   "cell_type": "markdown",
   "metadata": {},
   "source": [
    "## 1. Lets start by firing up the required libraries"
   ]
  },
  {
   "cell_type": "code",
   "execution_count": 1,
   "metadata": {
    "collapsed": true
   },
   "outputs": [],
   "source": [
    "import pandas as pd\n",
    "import numpy as np\n",
    "import matplotlib.pylab as plt\n",
    "\n",
    "import seaborn as sns\n",
    "sns.set(style=\"whitegrid\")\n",
    "sns.set_context('notebook', font_scale=1.1)"
   ]
  },
  {
   "cell_type": "markdown",
   "metadata": {},
   "source": [
    "## 2. Load data"
   ]
  },
  {
   "cell_type": "code",
   "execution_count": 2,
   "metadata": {
    "scrolled": true
   },
   "outputs": [
    {
     "data": {
      "text/plain": [
       "year\n",
       "1900    2.39\n",
       "1901    2.32\n",
       "1902    4.34\n",
       "1903    0.85\n",
       "1904    3.02\n",
       "Name: Prec, dtype: float64"
      ]
     },
     "execution_count": 2,
     "metadata": {},
     "output_type": "execute_result"
    }
   ],
   "source": [
    "data = pd.read_csv('data/fortprec.txt', sep ='\\t')\n",
    "df = data.groupby(\"year\").Prec.max()\n",
    "df.head()"
   ]
  },
  {
   "cell_type": "markdown",
   "metadata": {},
   "source": [
    "## 3. Fit GEV distribution (the best one)"
   ]
  },
  {
   "cell_type": "code",
   "execution_count": 27,
   "metadata": {},
   "outputs": [
    {
     "data": {
      "text/plain": [
       "OrderedDict([('c', -0.13012477387318533),\n",
       "             ('loc', 1.3536800222811283),\n",
       "             ('scale', 0.5568347579344847)])"
      ]
     },
     "execution_count": 27,
     "metadata": {},
     "output_type": "execute_result"
    }
   ],
   "source": [
    "import lmoments3 as lm\n",
    "from lmoments3 import distr\n",
    "\n",
    "gevfit = distr.gev.lmom_fit(df)\n",
    "gevfit"
   ]
  },
  {
   "cell_type": "markdown",
   "metadata": {},
   "source": [
    "## 4. Bootstrap confidence intervals\n",
    "\n",
    "The calculations used a percentile interval method. The underlying idea is to \n",
    "* sample the orignal data as many as possible;\n",
    "* carry out extreme value analysis on these sampled samples;\n",
    "* do statistics such as means and percentiles.\n",
    "\n",
    "All the code in this section has been adapted and simplified from that on \n",
    "* https://github.com/cgevans/scikits-bootstrap.\n",
    "* https://github.com/kikocorreoso/scikit-extremes/blob/master/skextremes\n",
    "\n",
    "All the credits shall go to them and you can find more information within each function."
   ]
  },
  {
   "cell_type": "code",
   "execution_count": 5,
   "metadata": {
    "collapsed": true
   },
   "outputs": [],
   "source": [
    "import warnings as _warnings\n",
    "from collections import OrderedDict\n",
    "from numpy.random import randint as _randint\n",
    "\n",
    "class InstabilityWarning(UserWarning):\n",
    "    \"\"\"Issued when results may be unstable.\"\"\"\n",
    "    pass"
   ]
  },
  {
   "cell_type": "markdown",
   "metadata": {},
   "source": [
    "On import, make sure that InstabilityWarnings are not filtered out."
   ]
  },
  {
   "cell_type": "code",
   "execution_count": 6,
   "metadata": {
    "collapsed": true
   },
   "outputs": [],
   "source": [
    "_warnings.simplefilter('always', InstabilityWarning)\n",
    "_warnings.simplefilter('always', UserWarning)"
   ]
  },
  {
   "cell_type": "markdown",
   "metadata": {},
   "source": [
    "The bootstrap_ci is the worker to carry out a series of tasks:\n",
    "* sampling\n",
    "* fitting gev distribution agaist samples\n",
    "* do statistics"
   ]
  },
  {
   "cell_type": "code",
   "execution_count": 39,
   "metadata": {},
   "outputs": [],
   "source": [
    "def bootstrap_ci(data, statfunction=np.average, alpha=0.05, n_samples=100):\n",
    "    \"\"\"\n",
    "    Calculate the bootstrap confidence interval for a given dataset using\n",
    "    the percentile interval method.\n",
    "\n",
    "    Parameters:\n",
    "    - data (array_like or tuple of array_like): Input data. If multiple\n",
    "            datasets are passed as a tuple, they are processed separately.\n",
    "    - statfunction (function): Function to apply to the data. The function\n",
    "            should accept samples of data from the input.\n",
    "    - alpha (float, optional): The percentiles to use for the confidence\n",
    "            interval. Default is 0.05.\n",
    "    - n_samples (int, optional): The number of bootstrap samples to use.\n",
    "            Default is 100.\n",
    "\n",
    "    Returns:\n",
    "    - confidences (tuple of floats): The confidence percentiles\n",
    "            specified by alpha.\n",
    "\n",
    "    Calculation Methods:\n",
    "    'pi' (Percentile Interval, Efron 13.3):\n",
    "        The percentile interval method returns the specified\n",
    "            confidence percentiles.\n",
    "\n",
    "    Calculation References:\n",
    "    - Efron (1993): 'An Introduction to the Bootstrap', Chapman & Hall.\n",
    "\n",
    "    This function has been derived and simplified from the\n",
    "        scikits-bootstrap package created by cgevans\n",
    "        (https://github.com/cgevans/scikits-bootstrap).\n",
    "\n",
    "    \"\"\"\n",
    "    def bootstrap_indexes(data, n_samples=10000):\n",
    "        \"\"\"\n",
    "        Generate sets of bootstrap indexes given data points.\n",
    "\n",
    "        Parameters:\n",
    "        - data: Data points where axis 0 delineates points.\n",
    "        - n_samples: The number of bootstrap samples to generate.\n",
    "\n",
    "        Returns:\n",
    "        - Generator for sets of bootstrap indexes.\n",
    "\n",
    "        \"\"\"\n",
    "        for _ in range(n_samples):\n",
    "            yield _randint(data.shape[0], size=(data.shape[0],))\n",
    "\n",
    "    alphas = np.array([alpha / 2, 1 - alpha / 2])\n",
    "\n",
    "    data = np.array(data)\n",
    "    tdata = (data,)\n",
    "\n",
    "    # Generate the bootstrap indexes\n",
    "    bootindexes = bootstrap_indexes(tdata[0], n_samples)\n",
    "\n",
    "    # Apply the statfunction to the generated indexes\n",
    "    stat = np.array([statfunction(*(x[indexes] for x in tdata))\n",
    "                    for indexes in bootindexes])\n",
    "    stat.sort(axis=0)\n",
    "\n",
    "    # Calculate confidence intervals using the Percentile Interval Method\n",
    "    avals = alphas\n",
    "\n",
    "    nvals = np.round((n_samples - 1) * avals).astype('int')\n",
    "\n",
    "    if np.any(nvals == 0) or np.any(nvals == n_samples - 1):\n",
    "        _warnings.warn(\n",
    "            \"Some values used extremal samples; results are probably unstable.\",\n",
    "            InstabilityWarning)\n",
    "    elif np.any(nvals < 10) or np.any(nvals >= n_samples - 10):\n",
    "        _warnings.warn(\n",
    "            \"Some values used top 10 low/high samples; results may be unstable.\",\n",
    "            InstabilityWarning)\n",
    "\n",
    "    if nvals.ndim == 1:\n",
    "        # All nvals are the same. Simple broadcasting\n",
    "        return stat[nvals]\n",
    "    else:\n",
    "        # Nvals are different for each data point. Not simple broadcasting.\n",
    "        # Each set of nvals along axis 0 corresponds to the data at the\n",
    "        # same point in other axes.\n",
    "        return stat[(nvals, np.indices(nvals.shape)[1:].squeeze())]"
   ]
  },
  {
   "cell_type": "markdown",
   "metadata": {},
   "source": [
    "ci_bootstrap is the entry function of bootstrapping, who invoke the bootstrap_ci to do real work. "
   ]
  },
  {
   "cell_type": "code",
   "execution_count": 40,
   "metadata": {},
   "outputs": [],
   "source": [
    "def ci_bootstrap(df, gevfit):\n",
    "    # Calculate confidence intervals using parametric bootstrap and the\n",
    "    # percentile interval method.\n",
    "    # This is used to obtain confidence intervals for the estimators and\n",
    "    # the return values for several return periods.\n",
    "\n",
    "    # More info about bootstrapping can be found on:\n",
    "    # - https://github.com/cgevans/scikits-bootstrap\n",
    "    # - Efron: \"An Introduction to the Bootstrap\", Chapman & Hall (1993)\n",
    "    # - https://en.wikipedia.org/wiki/Bootstrapping_%28statistics%29\n",
    "\n",
    "    # Define the function to perform parametric bootstrap\n",
    "    def func(data):\n",
    "        # Generate a sample of random values with the same distribution as the data\n",
    "        sample = distr.gev.rvs(size=len(df.index), **gevfit)\n",
    "\n",
    "        # Estimate parameters from the sample\n",
    "        samgevfit = distr.gev.lmom_fit(sample)\n",
    "\n",
    "        # Create a range of return periods\n",
    "        T = np.arange(0.1, 999.1, 0.1) + 1\n",
    "\n",
    "        # Calculate quantiles for the sample using the estimated parameters\n",
    "        sT = distr.gev.ppf(1.0-1./T, **samgevfit)\n",
    "\n",
    "        # Prepare the result with parameters and quantiles\n",
    "        res = list(samgevfit.values())\n",
    "        res.extend(sT.tolist())\n",
    "\n",
    "        return tuple(res)\n",
    "\n",
    "    # Perform the parametric bootstrap calculations\n",
    "    out = bootstrap_ci(df, statfunction=func, n_samples=500)\n",
    "\n",
    "    # Extract confidence intervals for return values\n",
    "    ci_Td = out[0, 3:]\n",
    "    ci_Tu = out[1, 3:]\n",
    "\n",
    "    # Store confidence intervals for parameters in a dictionary\n",
    "    params_ci = {'shape': (out[0, 0], out[1, 0]),\n",
    "                 'location': (out[0, 1], out[1, 1]),\n",
    "                 'scale': (out[0, 2], out[1, 3])\n",
    "                 }\n",
    "\n",
    "    return {'ci_Td': ci_Td, 'ci_Tu': ci_Tu, 'params_ci': params_ci}"
   ]
  },
  {
   "cell_type": "markdown",
   "metadata": {},
   "source": [
    "## 5. Get extreme precipitation according to some return years"
   ]
  },
  {
   "cell_type": "code",
   "execution_count": 45,
   "metadata": {
    "scrolled": true
   },
   "outputs": [
    {
     "data": {
      "text/plain": [
       "{'shape': (-0.29730239571341993, 0.04359656942542561),\n",
       " 'location': (1.2372283547313392, 1.4834427516947437),\n",
       " 'scale': (0.4530964583789155, 1.0006686280874824)}"
      ]
     },
     "execution_count": 45,
     "metadata": {},
     "output_type": "execute_result"
    }
   ],
   "source": [
    "# Generate a range of return years from 1.1 to 1000\n",
    "t = np.arange(0.1, 999.1, 0.1) + 1\n",
    "\n",
    "# Calculate quantiles for the Generalized Extreme Value (GEV) distribution\n",
    "sT = distr.gev.ppf(1.0 - 1.0 / t, **gevfit)\n",
    "\n",
    "# Prepare an index for observations\n",
    "N = np.r_[1:len(df.index) + 1] * 1.0\n",
    "Nmax = max(N)\n",
    "\n",
    "# Get confidence intervals using the ci_bootstrap function\n",
    "bootout = ci_bootstrap(df, gevfit)\n",
    "ci_Td = bootout[\"ci_Td\"]\n",
    "ci_Tu = bootout[\"ci_Tu\"]\n",
    "params_ci = bootout[\"params_ci\"]\n",
    "\n",
    "# Display the calculated parameters and confidence intervals\n",
    "params_ci\n"
   ]
  },
  {
   "cell_type": "markdown",
   "metadata": {},
   "source": [
    "- `ci_Td`: This stands for \"Confidence Interval Lower Bound for Return Periods (T)\". It represents the lower boundary of the confidence interval for return periods (T), which indicates the range of values within which the true statistic is expected to fall with a certain level of confidence.\n",
    "- `ci_Tu`: This stands for \"Confidence Interval Upper Bound for Return Periods (T)\". It represents the upper boundary of the confidence interval for return periods (T)."
   ]
  },
  {
   "cell_type": "code",
   "execution_count": 44,
   "metadata": {},
   "outputs": [
    {
     "data": {
      "text/plain": [
       "<matplotlib.collections.PolyCollection at 0x7f456b39f0d0>"
      ]
     },
     "execution_count": 44,
     "metadata": {},
     "output_type": "execute_result"
    },
    {
     "data": {
      "image/png": "[encoded data removed]",
      "text/plain": [
       "<Figure size 640x480 with 1 Axes>"
      ]
     },
     "metadata": {},
     "output_type": "display_data"
    }
   ],
   "source": [
    "fig, ax = plt.subplots()\n",
    "\n",
    "plt.setp(ax.lines, linewidth = 2, color = 'magenta')\n",
    "\n",
    "ax.set_title(\"GEV Distribution\")\n",
    "ax.set_xlabel(\"Return Period (Year)\")\n",
    "ax.set_ylabel(\"Precipitation\")\n",
    "ax.semilogx(t, sT)\n",
    "ax.scatter(Nmax/N, sorted(df)[::-1], color = 'orangered')\n",
    "\n",
    "ax.semilogx(t, ci_Td, '--')\n",
    "ax.semilogx(t, ci_Tu, '--')\n",
    "ax.fill_between(t, ci_Td, ci_Tu, color = '0.75', alpha = 0.5)"
   ]
  },
  {
   "cell_type": "markdown",
   "metadata": {},
   "source": [
    "## End Notes"
   ]
  },
  {
   "cell_type": "markdown",
   "metadata": {},
   "source": [
    "Through this guide I have tried to give you a basic idea how to carry out extreme value analysis (EVA) upon a time series data of interest.\n",
    "\n",
    "The part 1 shows the basic idea how to carry out extreme value analysis(EVA) from \n",
    "* downloading station data using a open source tool of ghcnpy, \n",
    "* to check data using pandas and select annual maxima time series, \n",
    "* to fit extreme value distributions based on L-moments,\n",
    "* to present the final output.\n",
    "\n",
    "The part 2 presents an idea of\n",
    "* fitting multiple extreme value distributions,\n",
    "* selecting the best distribution based on a goodness-of-fit measure.\n",
    "\n",
    "The part 3 shows how to get confidence intervals of the selected distribution's\n",
    "* its estimated parameters,\n",
    "* final result (CI at 95% ).\n",
    "\n",
    "Perhaps, I will introduce a little bit of how to construct extreme precipitation IDF or DDF curves in the next part.\n",
    "\n",
    "In fact, the analysis will become more complicated in a real practice as high quality data are not always available. Sometimes, you have to spend a lot of time cleaning the data. For example, fill the missing values and check outliers.\n",
    "\n",
    "This is just a start. You can try more."
   ]
  },
  {
   "cell_type": "code",
   "execution_count": null,
   "metadata": {
    "collapsed": true
   },
   "outputs": [],
   "source": []
  }
 ],
 "metadata": {
  "anaconda-cloud": {},
  "kernelspec": {
   "display_name": "base",
   "language": "python",
   "name": "python3"
  },
  "language_info": {
   "codemirror_mode": {
    "name": "ipython",
    "version": 3
   },
   "file_extension": ".py",
   "mimetype": "text/x-python",
   "name": "python",
   "nbconvert_exporter": "python",
   "pygments_lexer": "ipython3",
   "version": "3.9.13"
  }
 },
 "nbformat": 4,
 "nbformat_minor": 1
}
